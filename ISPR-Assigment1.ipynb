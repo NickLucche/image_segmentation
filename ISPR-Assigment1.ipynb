{
 "cells": [
  {
   "cell_type": "markdown",
   "metadata": {},
   "source": [
    "# Intelligent Systems for Pattern Recognition (unipi)\n",
    "## Assigment 1 - 3rd choice"
   ]
  },
  {
   "cell_type": "markdown",
   "metadata": {},
   "source": [
    ">Perform image segmentation on one of the eight image thematic subsets. Note that each file has a name starting with a number from 1 to 8, which indicates the thematic subset, followed by the rest of the file name. I suggest to use image subsets “1_*” or “2_*”.  Use the normalized cut algorithm to perform image segmentation. You are welcome to confront the result with kmeans segmentation algorithm if you wish."
   ]
  },
  {
   "cell_type": "markdown",
   "metadata": {},
   "source": [
    "[Used dataset](http://download.microsoft.com/download/A/1/1/A116CD80-5B79-407E-B5CE-3D5C6ED8B0D5/msrc_objcategimagedatabase_v1.zip) (from microsoft)"
   ]
  },
  {
   "cell_type": "markdown",
   "metadata": {},
   "source": [
    "---\n",
    "## Load dataset"
   ]
  },
  {
   "cell_type": "code",
   "execution_count": 1,
   "metadata": {},
   "outputs": [],
   "source": [
    "import os\n",
    "import cv2 # use OpenCV for dealing with images\n",
    "from sklearn.cluster import KMeans\n",
    "import numpy as np"
   ]
  },
  {
   "cell_type": "code",
   "execution_count": 2,
   "metadata": {},
   "outputs": [
    {
     "name": "stdout",
     "output_type": "stream",
     "text": [
      "[(213, 320, 3), (213, 320, 3), (213, 320, 3), (213, 320, 3), (213, 320, 3), (213, 320, 3), (213, 320, 3), (213, 320, 3), (213, 320, 3), (213, 320, 3), (213, 320, 3), (213, 320, 3), (213, 320, 3), (213, 320, 3), (213, 320, 3), (213, 320, 3), (213, 320, 3), (213, 320, 3), (213, 320, 3), (213, 320, 3), (213, 320, 3), (213, 320, 3), (213, 320, 3), (213, 320, 3), (213, 320, 3), (213, 320, 3), (213, 320, 3), (213, 320, 3), (213, 320, 3), (213, 320, 3), (213, 320, 3), (213, 320, 3), (213, 320, 3), (213, 320, 3), (213, 320, 3), (213, 320, 3), (213, 320, 3), (213, 320, 3), (213, 320, 3), (213, 320, 3), (213, 320, 3), (213, 320, 3), (213, 320, 3), (213, 320, 3), (213, 320, 3), (213, 320, 3), (213, 320, 3), (213, 320, 3), (213, 320, 3), (213, 320, 3), (213, 320, 3), (213, 320, 3), (213, 320, 3), (213, 320, 3), (213, 320, 3), (213, 320, 3), (213, 320, 3), (213, 320, 3), (213, 320, 3), (213, 320, 3)]\n"
     ]
    }
   ],
   "source": [
    "dataset_dir = 'MSRC_ObjCategImageDatabase_v1'\n",
    "image_subset_prefix = \"1_\"\n",
    "images = {}\n",
    "#import image subset by listing all images in dataset directory\n",
    "for filename in os.listdir(dataset_dir):\n",
    "    if filename.startswith(image_subset_prefix):\n",
    "        images[filename] = cv2.imread(dataset_dir+os.sep+filename, cv2.IMREAD_COLOR)\n",
    "        \n",
    "# obtain dict filename-image matrix\n",
    "print([v.shape for k, v in images.items() ])"
   ]
  },
  {
   "cell_type": "markdown",
   "metadata": {},
   "source": [
    "___\n",
    "## K-MEANS approach\n",
    "### Let's first try the easiest approach to image segmentation by applying k-means clustering algorithm to pixel colors"
   ]
  },
  {
   "cell_type": "code",
   "execution_count": 3,
   "metadata": {
    "scrolled": true
   },
   "outputs": [
    {
     "data": {
      "text/plain": [
       "68160"
      ]
     },
     "execution_count": 3,
     "metadata": {},
     "output_type": "execute_result"
    }
   ],
   "source": [
    "# let's organize data in a matrix containing (#pixel - RGB value)\n",
    "imageRGB_matrix = {}\n",
    "for k, v in images.items():\n",
    "    npixels = v.shape[0] * v.shape[1]\n",
    "    matrix = np.transpose(v)\n",
    "    matrix = matrix.reshape(npixels, 3)\n",
    "    imageRGB_matrix[k] = matrix\n",
    "print(matrix.shape)"
   ]
  },
  {
   "cell_type": "markdown",
   "metadata": {},
   "source": [
    "`Choose best k by looking at sum of squared distances`"
   ]
  },
  {
   "cell_type": "code",
   "execution_count": 11,
   "metadata": {},
   "outputs": [],
   "source": [
    "bestk = KMeans(n_clusters=5, n_init=10, verbose=0, n_jobs=-1).fit(imageRGB_matrix['1_11_s.bmp'])\n",
    "\n",
    "# for k in range(3, 20):\n",
    "#     kmeans = KMeans(n_clusters=k, n_init=10, n_jobs=-1).fit(imageRGB_matrix['1_11_s.bmp'])\n",
    "#     if kmeans.inertia_ < bestk.inertia_:\n",
    "#         bestk = kmeans"
   ]
  },
  {
   "cell_type": "code",
   "execution_count": 12,
   "metadata": {},
   "outputs": [
    {
     "name": "stdout",
     "output_type": "stream",
     "text": [
      "(68160, 3)\n",
      "(3, 68160)\n"
     ]
    },
    {
     "data": {
      "text/plain": [
       "array([[[230.8001128 , 230.8001128 , 230.8001128 ],\n",
       "        [230.8001128 , 230.8001128 , 230.8001128 ],\n",
       "        [230.8001128 , 230.8001128 , 230.8001128 ],\n",
       "        ...,\n",
       "        [ 65.52665245,  65.52665245,  25.59725658],\n",
       "        [ 65.52665245,  65.52665245,  65.52665245],\n",
       "        [ 65.52665245,  65.52665245,  65.52665245]],\n",
       "\n",
       "       [[ 65.52665245,  65.52665245,  65.52665245],\n",
       "        [ 65.52665245,  65.52665245,  25.59725658],\n",
       "        [ 65.52665245,  65.52665245,  65.52665245],\n",
       "        ...,\n",
       "        [ 65.52665245,  25.59725658,  65.52665245],\n",
       "        [ 65.52665245,  25.59725658,  65.52665245],\n",
       "        [230.8001128 , 230.8001128 , 230.8001128 ]],\n",
       "\n",
       "       [[230.8001128 , 230.8001128 , 230.8001128 ],\n",
       "        [230.8001128 , 230.8001128 , 230.8001128 ],\n",
       "        [230.8001128 , 230.8001128 , 230.8001128 ],\n",
       "        ...,\n",
       "        [ 65.52665245,  65.52665245,  65.52665245],\n",
       "        [ 65.52665245,  25.59725658,  25.59725658],\n",
       "        [ 25.59725658,  25.59725658,  25.59725658]],\n",
       "\n",
       "       ...,\n",
       "\n",
       "       [[133.64244932, 133.64244932, 133.64244932],\n",
       "        [133.64244932, 133.64244932, 133.64244932],\n",
       "        [133.64244932, 155.25824839, 155.25824839],\n",
       "        ...,\n",
       "        [155.25824839, 155.25824839, 155.25824839],\n",
       "        [155.25824839, 155.25824839, 155.25824839],\n",
       "        [155.25824839, 155.25824839, 155.25824839]],\n",
       "\n",
       "       [[155.25824839, 155.25824839, 155.25824839],\n",
       "        [229.757304  , 229.757304  , 229.757304  ],\n",
       "        [229.757304  , 229.757304  , 229.757304  ],\n",
       "        ...,\n",
       "        [133.64244932, 133.64244932, 155.25824839],\n",
       "        [133.64244932, 133.64244932, 133.64244932],\n",
       "        [133.64244932, 133.64244932, 133.64244932]],\n",
       "\n",
       "       [[133.64244932, 133.64244932, 133.64244932],\n",
       "        [133.64244932, 155.25824839, 155.25824839],\n",
       "        [133.64244932, 133.64244932, 133.64244932],\n",
       "        ...,\n",
       "        [133.64244932, 133.64244932, 155.25824839],\n",
       "        [155.25824839, 133.64244932, 155.25824839],\n",
       "        [155.25824839, 155.25824839, 155.25824839]]])"
      ]
     },
     "execution_count": 12,
     "metadata": {},
     "output_type": "execute_result"
    }
   ],
   "source": [
    "image_to_print = bestk.cluster_centers_[bestk.labels_[0]]\n",
    "for i, l in enumerate(bestk.labels_):\n",
    "    if i != 0:\n",
    "        image_to_print = np.vstack((image_to_print, bestk.cluster_centers_[l]))\n",
    "print(image_to_print.shape)        \n",
    "# convert image back to 3d tensor\n",
    "image_to_print = np.transpose(image_to_print)\n",
    "print(image_to_print.shape)\n",
    "image_to_print = image_to_print.reshape(213, 320, 3)\n",
    "image_to_print\n",
    "#cv2.imshow('image',image_to_print)"
   ]
  },
  {
   "cell_type": "code",
   "execution_count": 13,
   "metadata": {},
   "outputs": [
    {
     "name": "stderr",
     "output_type": "stream",
     "text": [
      "Clipping input data to the valid range for imshow with RGB data ([0..1] for floats or [0..255] for integers).\n"
     ]
    },
    {
     "data": {
      "image/png": "[encoded data removed]",
      "text/plain": [
       "<Figure size 432x288 with 1 Axes>"
      ]
     },
     "metadata": {},
     "output_type": "display_data"
    }
   ],
   "source": [
    "bestk.labels_.shape\n",
    "from matplotlib import pyplot as plt\n",
    "import matplotlib.image as mpimg\n",
    "\n",
    "plt.imshow(image_to_print)\n",
    "plt.xticks([]), plt.yticks([])  # to hide tick values on X and Y axis\n",
    "plt.show()\n"
   ]
  }
 ],
 "metadata": {
  "kernelspec": {
   "display_name": "Python 3",
   "language": "python",
   "name": "python3"
  },
  "language_info": {
   "codemirror_mode": {
    "name": "ipython",
    "version": 3
   },
   "file_extension": ".py",
   "mimetype": "text/x-python",
   "name": "python",
   "nbconvert_exporter": "python",
   "pygments_lexer": "ipython3",
   "version": "3.7.1"
  }
 },
 "nbformat": 4,
 "nbformat_minor": 2
}
